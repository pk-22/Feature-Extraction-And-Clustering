{
 "cells": [
  {
   "cell_type": "markdown",
   "id": "b6ab8046",
   "metadata": {},
   "source": [
    "Python library imported in code"
   ]
  },
  {
   "cell_type": "code",
   "execution_count": 1,
   "id": "9e3d31e0",
   "metadata": {},
   "outputs": [],
   "source": [
    "import os\n",
    "import numpy as np\n",
    "import csv\n",
    "from itertools import product\n",
    "from sklearn.cluster import KMeans\n",
    "import pandas as pd\n",
    "from sklearn.preprocessing import MinMaxScaler\n",
    "from matplotlib import pyplot as plt\n",
    "from sklearn.metrics import silhouette_score\n",
    "import matplotlib.pyplot as plt"
   ]
  },
  {
   "cell_type": "code",
   "execution_count": null,
   "id": "befd0ad0",
   "metadata": {},
   "outputs": [],
   "source": [
    "#function to check that character can only be A T G C\n",
    "valid_chars={'A','T','G','C'}\n",
    "def check_data_validity(str):\n",
    "  for j in str:\n",
    "    if j not in valid_chars:\n",
    "      return False\n",
    "  return True\n"
   ]
  },
  {
   "cell_type": "code",
   "execution_count": 56,
   "id": "0bb76f19",
   "metadata": {},
   "outputs": [],
   "source": [
    "#Preprocessing of data with data redudancy in same file and extracting protein sequence from raw data\n",
    "folder_path = \"ATGC\"\n",
    "\n",
    "with open(\"Preprocessed_data_file/proteinSequence.txt\", \"w\") as out_file:\n",
    "    for file_name in os.listdir(folder_path):\n",
    "            file_path = os.path.join(folder_path, file_name)\n",
    "            seen_sequence={}\n",
    "            str_data=\"\"\n",
    "            with open(file_path, \"r\") as f:\n",
    "                \n",
    "                for line in f:\n",
    "                    line=line.strip()\n",
    "                    if len(line)>0 and line[0]=='>':\n",
    "                      if len(str_data)>0:\n",
    "                          if str_data not in seen_sequence:\n",
    "                            seen_sequence[str_data]=True\n",
    "                            if check_data_validity(str_data):\n",
    "                              out_file.write(f\"{str_data}\\n\")\n",
    "                            str_data=\"\"\n",
    "                      continue\n",
    "                    str_data=str_data+line\n",
    "                \n",
    "                if len(str_data)>0:\n",
    "                          if str_data not in seen_sequence:\n",
    "                            seen_sequence[str_data]=True\n",
    "                            if check_data_validity(str_data):\n",
    "                              out_file.write(f\"{str_data}\\n\")\n",
    "                            str_data=\"\"\n",
    "  \n",
    "               \n"
   ]
  },
  {
   "cell_type": "markdown",
   "id": "8d9405d0",
   "metadata": {},
   "source": [
    "Divide nucleotide bases into its category on basis of chemical properties"
   ]
  },
  {
   "cell_type": "code",
   "execution_count": 57,
   "id": "732257cd",
   "metadata": {},
   "outputs": [],
   "source": [
    "\n",
    "MK={'A':'M','C':'M','G':'K','T':'K'}\n",
    "def MK_group(str):\n",
    "  temp_str=\"\"\n",
    "  for j in str:\n",
    "    temp_str+=MK[j]\n",
    "  return temp_str\n",
    "\n",
    "  \n"
   ]
  },
  {
   "cell_type": "code",
   "execution_count": 58,
   "id": "80d89373",
   "metadata": {},
   "outputs": [],
   "source": [
    "RY={'A':'R','C':'Y','G':'R','T':'Y'}\n",
    "def RY_group(str):\n",
    "  temp_str=\"\"\n",
    "  for j in str:\n",
    "    temp_str+=RY[j]\n",
    "  return temp_str"
   ]
  },
  {
   "cell_type": "code",
   "execution_count": 59,
   "id": "df12a1d2",
   "metadata": {},
   "outputs": [],
   "source": [
    "WS={'A':'W','C':'S','G':'S','T':'W'}\n",
    "def WS_group(str):\n",
    "  temp_str=\"\"\n",
    "  for j in str:\n",
    "    temp_str+=WS[j]\n",
    "  return temp_str"
   ]
  },
  {
   "cell_type": "code",
   "execution_count": 61,
   "id": "a77286ad",
   "metadata": {},
   "outputs": [],
   "source": [
    "#window size\n",
    "k=2\n"
   ]
  },
  {
   "cell_type": "markdown",
   "id": "210470ab",
   "metadata": {},
   "source": [
    "Creating original sequence"
   ]
  },
  {
   "cell_type": "code",
   "execution_count": 62,
   "id": "320abafe",
   "metadata": {},
   "outputs": [],
   "source": [
    "\n",
    "def create_original_sequence(str,group):\n",
    "    a=np.array([],dtype=float)\n",
    "    length_of_str=len(str)\n",
    "    for i in range(k,length_of_str+1):\n",
    "        if str[i-k:i]==group:\n",
    "            a=np.append(a,1)\n",
    "        else:\n",
    "            a=np.append(a,0)\n",
    "    return a\n",
    "    \n",
    "    "
   ]
  },
  {
   "cell_type": "markdown",
   "id": "81273591",
   "metadata": {},
   "source": [
    "Creating local frequency sequence"
   ]
  },
  {
   "cell_type": "code",
   "execution_count": 63,
   "id": "7294945e",
   "metadata": {},
   "outputs": [],
   "source": [
    "def create_local_frequency_sequence(original_sequence):\n",
    "    length_of_array=len(original_sequence)\n",
    "    prev_ind=0\n",
    "    for i in range(1,length_of_array+1):\n",
    "        if original_sequence[i-1]==1:\n",
    "            original_sequence[i-1]=1/(i-prev_ind)\n",
    "            prev_ind=i\n",
    "\n",
    "    "
   ]
  },
  {
   "cell_type": "markdown",
   "id": "4fdeb26c",
   "metadata": {},
   "source": [
    "Creating Local Frequency based partial sum sequence "
   ]
  },
  {
   "cell_type": "code",
   "execution_count": 64,
   "id": "b96d3a1d",
   "metadata": {},
   "outputs": [],
   "source": [
    "def create_LF_based_partial_sum_sequence(LF_sequence):\n",
    "    length_of_array=len(LF_sequence)\n",
    "    for i in range(1,length_of_array):\n",
    "        LF_sequence[i]+=LF_sequence[i-1]"
   ]
  },
  {
   "cell_type": "markdown",
   "id": "059c71f6",
   "metadata": {},
   "source": [
    "Calculating Local Frequency based entropy value"
   ]
  },
  {
   "cell_type": "code",
   "execution_count": 65,
   "id": "2342f875",
   "metadata": {},
   "outputs": [],
   "source": [
    "def create_LF_based_entropy_value(a):\n",
    "    sol=0.0\n",
    "    Z=0.0\n",
    "    for j in a:\n",
    "        Z+=j\n",
    "    if Z==0:\n",
    "        return 0\n",
    "    \n",
    "    for j in a:\n",
    "        pr=j/Z\n",
    "        if pr!=0:\n",
    "            sol-=(pr*np.log2(pr))\n",
    "    return sol\n",
    "    "
   ]
  },
  {
   "cell_type": "markdown",
   "id": "21f2547c",
   "metadata": {},
   "source": [
    "Generating Possible Groups based on window size"
   ]
  },
  {
   "cell_type": "code",
   "execution_count": 66,
   "id": "3c707446",
   "metadata": {},
   "outputs": [],
   "source": [
    "\n",
    "\n",
    "def generate_possible_group(char_arr):\n",
    "    a=[]\n",
    "    for i in range(0,k):\n",
    "        a.append(char_arr)\n",
    "    combs=product(*a)\n",
    "    possible_string=np.array([],dtype='str')\n",
    "    for j in combs:\n",
    "        temp_str=''.join(j)\n",
    "        possible_string=np.append(possible_string,temp_str)\n",
    "    return possible_string\n",
    "possible_groups_MK=generate_possible_group(('M','K'))\n",
    "possible_groups_RY=generate_possible_group(('R','Y'))\n",
    "possible_groups_WS=generate_possible_group(('W','S'))"
   ]
  },
  {
   "cell_type": "markdown",
   "id": "c1491a67",
   "metadata": {},
   "source": [
    "Generating Feature Vector and storing in a CSV file"
   ]
  },
  {
   "cell_type": "code",
   "execution_count": 68,
   "id": "a8035f68",
   "metadata": {},
   "outputs": [],
   "source": [
    "folder_path=\"Preprocessed_data_file\"\n",
    "with open('Feature_Vector/feature_vector.csv','w') as csv_file:\n",
    "    writer=csv.writer(csv_file)\n",
    "    for file_name in os.listdir(folder_path):\n",
    "        file_path = os.path.join(folder_path, file_name)    \n",
    "        with open(file_path,\"r\") as f:\n",
    "            for line in f:\n",
    "                feature_vector=np.array([],dtype=float)\n",
    "                line = line.rstrip(\"\\n\") \n",
    "                #for MK\n",
    "                MK_sequence=MK_group(line)\n",
    "                for group in possible_groups_MK:                  \n",
    "                    original_sequence=create_original_sequence(MK_sequence,group)\n",
    "                    create_local_frequency_sequence(original_sequence)\n",
    "                    create_LF_based_partial_sum_sequence(original_sequence)\n",
    "                    LF_based_entropy_value=create_LF_based_entropy_value(original_sequence)\n",
    "                    feature_vector=np.append(feature_vector,LF_based_entropy_value)\n",
    "                #for RY\n",
    "                RY_sequence=RY_group(line)\n",
    "                for group in possible_groups_RY:                  \n",
    "                    original_sequence=create_original_sequence(RY_sequence,group)\n",
    "                    create_local_frequency_sequence(original_sequence)\n",
    "                    create_LF_based_partial_sum_sequence(original_sequence)\n",
    "                    LF_based_entropy_value=create_LF_based_entropy_value(original_sequence)\n",
    "                    feature_vector=np.append(feature_vector,LF_based_entropy_value)\n",
    " \n",
    "                #for WS\n",
    "                WS_sequence=WS_group(line)\n",
    "                for group in possible_groups_WS:                  \n",
    "                    original_sequence=create_original_sequence(WS_sequence,group)\n",
    "                    create_local_frequency_sequence(original_sequence)\n",
    "                    create_LF_based_partial_sum_sequence(original_sequence)\n",
    "                    LF_based_entropy_value=create_LF_based_entropy_value(original_sequence)\n",
    "                    feature_vector=np.append(feature_vector,LF_based_entropy_value)  \n",
    "                \n",
    "                writer.writerow(feature_vector)\n",
    "                    \n",
    "\n",
    "      \n"
   ]
  },
  {
   "cell_type": "markdown",
   "id": "72f28f62",
   "metadata": {},
   "source": [
    "Additional code to combined multiple file in case if we want to run on multiple system and combine the extracted feature vector"
   ]
  },
  {
   "cell_type": "code",
   "execution_count": 31,
   "id": "2416a3b4",
   "metadata": {},
   "outputs": [
    {
     "name": "stdout",
     "output_type": "stream",
     "text": [
      "(79143, 12)\n",
      "(64270, 12)\n",
      "(77753, 12)\n",
      "(55815, 12)\n",
      "(67660, 12)\n",
      "(344641, 12)\n"
     ]
    }
   ],
   "source": [
    "folder_path=\"Part_wise_feature_vector\"\n",
    "\n",
    "\n",
    "combined_df = pd.DataFrame()\n",
    "for file_name in os.listdir(folder_path):\n",
    "    if file_name.endswith('.csv'):\n",
    "        temp_df = pd.read_csv(os.path.join(folder_path,file_name), header=None)\n",
    "        print(temp_df.shape)\n",
    "        combined_df =pd.concat([combined_df,temp_df])\n",
    "        #combined_df.append(temp_df,ignore_index=True)\n",
    "    \n",
    "\n",
    "\n",
    "print(combined_df.shape)\n",
    "\n",
    "combined_df.to_csv('Feature_Vector/feature_vector.csv', index=False)"
   ]
  },
  {
   "cell_type": "markdown",
   "id": "3b9501f0",
   "metadata": {},
   "source": [
    "Reading from CSV file and ignoring the header value"
   ]
  },
  {
   "cell_type": "code",
   "execution_count": 2,
   "id": "1e710fdb",
   "metadata": {},
   "outputs": [],
   "source": [
    "feature_vector=pd.read_csv(\"Feature_Vector/feature_vector.csv\",header=None)"
   ]
  },
  {
   "cell_type": "markdown",
   "id": "b314d8db",
   "metadata": {},
   "source": [
    "Applying K-Means clustering algorithm and using Silhouette Function to compare for different value of K"
   ]
  },
  {
   "cell_type": "code",
   "execution_count": 3,
   "id": "6f49fc2b",
   "metadata": {},
   "outputs": [],
   "source": [
    "silhouette_data=[]"
   ]
  },
  {
   "cell_type": "code",
   "execution_count": 8,
   "id": "3df895dc",
   "metadata": {},
   "outputs": [],
   "source": [
    "for num_of_cluster in range(2,11):\n",
    "    km=KMeans(n_clusters=num_of_cluster,random_state=354, max_iter=10)\n",
    "    y_predicted = km.fit_predict(feature_vector)\n",
    "    silhouette_avg=silhouette_score(feature_vector,y_predicted)\n",
    "    silhouette_data.append([num_of_cluster,silhouette_avg])"
   ]
  },
  {
   "cell_type": "code",
   "execution_count": 9,
   "id": "c0225153",
   "metadata": {},
   "outputs": [
    {
     "data": {
      "text/plain": [
       "[[2, 0.5552224682033385],\n",
       " [3, 0.5292249442788798],\n",
       " [4, 0.5133423165538097],\n",
       " [5, 0.503286466610789],\n",
       " [6, 0.4948436896420247],\n",
       " [7, 0.49888948454943416],\n",
       " [8, 0.4906262061450674],\n",
       " [9, 0.4844882520736687],\n",
       " [10, 0.47241747164030673]]"
      ]
     },
     "execution_count": 9,
     "metadata": {},
     "output_type": "execute_result"
    }
   ],
   "source": [
    "silhouette_data"
   ]
  },
  {
   "cell_type": "markdown",
   "id": "c7d4862a",
   "metadata": {},
   "source": [
    "Pictorial Representation of Silhouette Score obtained on different K"
   ]
  },
  {
   "cell_type": "code",
   "execution_count": 10,
   "id": "e0886d48",
   "metadata": {},
   "outputs": [
    {
     "data": {
      "image/png": "[encoded data removed]",
      "text/plain": [
       "<Figure size 640x480 with 1 Axes>"
      ]
     },
     "metadata": {},
     "output_type": "display_data"
    }
   ],
   "source": [
    "x = [row[0] for row in silhouette_data]\n",
    "y = [row[1] for row in silhouette_data]\n",
    "plt.xlabel('Number of Cluster')\n",
    "plt.ylabel('Silhouette Score')\n",
    "plt.plot(x,y,'o-')\n",
    "plt.show()"
   ]
  },
  {
   "cell_type": "code",
   "execution_count": 77,
   "id": "4f1b8ef0",
   "metadata": {},
   "outputs": [],
   "source": [
    "# km=KMeans(n_clusters=3,random_state=8853, max_iter=1000)\n",
    "# km"
   ]
  },
  {
   "cell_type": "code",
   "execution_count": 78,
   "id": "0a074e84",
   "metadata": {},
   "outputs": [],
   "source": [
    "# y_predicted = km.fit_predict(df)\n",
    "# y_predicted"
   ]
  },
  {
   "cell_type": "code",
   "execution_count": 79,
   "id": "a378671f",
   "metadata": {},
   "outputs": [],
   "source": [
    "# centroids=km.cluster_centers_\n",
    "# centroids"
   ]
  },
  {
   "cell_type": "code",
   "execution_count": null,
   "id": "243898b1",
   "metadata": {},
   "outputs": [],
   "source": []
  },
  {
   "cell_type": "code",
   "execution_count": 80,
   "id": "7cd7f9d9",
   "metadata": {},
   "outputs": [],
   "source": [
    "# silhouette_avg=silhouette_score(df, y_predicted)\n",
    "# silhouette_avg"
   ]
  },
  {
   "cell_type": "code",
   "execution_count": null,
   "id": "bf15cff0",
   "metadata": {},
   "outputs": [],
   "source": []
  },
  {
   "cell_type": "code",
   "execution_count": null,
   "id": "77b0a15c",
   "metadata": {},
   "outputs": [],
   "source": []
  }
 ],
 "metadata": {
  "kernelspec": {
   "display_name": "Python 3 (ipykernel)",
   "language": "python",
   "name": "python3"
  },
  "language_info": {
   "codemirror_mode": {
    "name": "ipython",
    "version": 3
   },
   "file_extension": ".py",
   "mimetype": "text/x-python",
   "name": "python",
   "nbconvert_exporter": "python",
   "pygments_lexer": "ipython3",
   "version": "3.8.10"
  }
 },
 "nbformat": 4,
 "nbformat_minor": 5
}
